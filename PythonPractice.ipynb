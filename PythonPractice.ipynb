{
 "cells": [
  {
   "cell_type": "code",
   "execution_count": 1,
   "id": "2dd3664a",
   "metadata": {},
   "outputs": [],
   "source": [
    "def my_function(a, b, c):\n",
    "    a = 1\n",
    "    b = 2\n",
    "    c = 3"
   ]
  },
  {
   "cell_type": "code",
   "execution_count": 10,
   "id": "0b678983",
   "metadata": {},
   "outputs": [],
   "source": [
    "string = \"Hi mom\"\n",
    "#eval(string)"
   ]
  },
  {
   "cell_type": "code",
   "execution_count": 11,
   "id": "fc727739",
   "metadata": {},
   "outputs": [
    {
     "name": "stderr",
     "output_type": "stream",
     "text": [
      "'virtualenv' is not recognized as an internal or external command,\n",
      "operable program or batch file.\n",
      "'.' is not recognized as an internal or external command,\n",
      "operable program or batch file.\n"
     ]
    },
    {
     "data": {
      "text/plain": [
       "'pip install ipykernel\\nipython kernel install --user --name=venv\\njupyter notebook'"
      ]
     },
     "execution_count": 11,
     "metadata": {},
     "output_type": "execute_result"
    }
   ],
   "source": [
    "# v env inside juppes\n",
    "\n",
    "!virtualenv venv\n",
    "!. venv/bin/activate\n",
    "\n",
    "'''pip install ipykernel\n",
    "ipython kernel install --user --name=venv\n",
    "jupyter notebook'''"
   ]
  },
  {
   "cell_type": "code",
   "execution_count": 12,
   "id": "bd95bedd",
   "metadata": {},
   "outputs": [],
   "source": [
    "#LAMBDAS [Next Chapter]"
   ]
  },
  {
   "cell_type": "code",
   "execution_count": 16,
   "id": "157bbd2b",
   "metadata": {},
   "outputs": [
    {
     "name": "stdout",
     "output_type": "stream",
     "text": [
      "0\n",
      "2.5\n",
      "5.0\n"
     ]
    }
   ],
   "source": [
    "#itertools()\n",
    "from itertools import count\n",
    "\n",
    "for number in count(start=0, step=2.5):\n",
    "    if number > 5:\n",
    "        break\n",
    "    print(number) # print statement\n",
    "\n"
   ]
  },
  {
   "cell_type": "code",
   "execution_count": 17,
   "id": "a8a3693d",
   "metadata": {},
   "outputs": [
    {
     "name": "stdout",
     "output_type": "stream",
     "text": [
      "<memory at 0x000002BA57FE8640>\n",
      "72\n",
      "101\n"
     ]
    }
   ],
   "source": [
    "#memoryview\n",
    "x = memoryview(b\"Hello\")\n",
    "\n",
    "print(x)\n",
    "\n",
    "#return the Unicode of the first character\n",
    "print(x[0])\n",
    "\n",
    "#return the Unicode of the second character\n",
    "print(x[1])\n",
    "\n",
    "#memory by locale [this will come up later]"
   ]
  },
  {
   "cell_type": "code",
   "execution_count": 20,
   "id": "11b6e66f",
   "metadata": {},
   "outputs": [
    {
     "name": "stdout",
     "output_type": "stream",
     "text": [
      "{'Gurble': {'key': 'Gurble', 'name': 'Gurble Purple', 'age': 210, 'pay': 40}, 'Naboo': {'key': 'Naboo', 'name': 'Naboo Planet', 'age': 36, 'pay': 500000}}\n"
     ]
    }
   ],
   "source": [
    "#pickling\n",
    "import pickle\n",
    "  \n",
    "def storeData():\n",
    "# initializing data to be stored in db\n",
    "    Gurble = {'key' : 'Gurble', 'name' : 'Gurble Purple',\n",
    "'age' : 210, 'pay' : 40}\n",
    "    Naboo = {'key' : 'Naboo', 'name' : 'Naboo Planet',\n",
    "'age' : 36, 'pay' : 500000}\n",
    "\n",
    "# database\n",
    "db = {}\n",
    "db['Gurble'] = Gurble\n",
    "db['Naboo'] = Naboo\n",
    "\n",
    "# For storing\n",
    "b = pickle.dumps(db)\t # type(b) gives <class 'bytes'>\n",
    "\n",
    "# For loading\n",
    "myEntry = pickle.loads(b)\n",
    "print(myEntry)\n"
   ]
  },
  {
   "cell_type": "code",
   "execution_count": 21,
   "id": "d6d46946",
   "metadata": {},
   "outputs": [
    {
     "data": {
      "text/plain": [
       "\"with shelve.open('shelf-example', 'r') as shelf:\\n  for key in shelf.keys():\\n    print(repr(key), repr(shelf[key]))\""
      ]
     },
     "execution_count": 21,
     "metadata": {},
     "output_type": "execute_result"
    }
   ],
   "source": [
    "#shelving\n",
    "\n",
    "'''with shelve.open('shelf-example', 'r') as shelf:\n",
    "  for key in shelf.keys():\n",
    "    print(repr(key), repr(shelf[key]))'''"
   ]
  },
  {
   "cell_type": "code",
   "execution_count": 28,
   "id": "c54befce",
   "metadata": {},
   "outputs": [
    {
     "ename": "IndentationError",
     "evalue": "expected an indented block (2287055705.py, line 14)",
     "output_type": "error",
     "traceback": [
      "\u001b[1;36m  File \u001b[1;32m\"C:\\Users\\David\\AppData\\Local\\Temp\\ipykernel_14168\\2287055705.py\"\u001b[1;36m, line \u001b[1;32m14\u001b[0m\n\u001b[1;33m    \u001b[0m\n\u001b[1;37m    ^\u001b[0m\n\u001b[1;31mIndentationError\u001b[0m\u001b[1;31m:\u001b[0m expected an indented block\n"
     ]
    }
   ],
   "source": [
    "#threading\n",
    "\n",
    "import threading\n",
    "\n",
    "\n",
    "def print_cube(num):\n",
    "# function to print cube of given num\n",
    "    print(\"Cube: {}\" .format(num * num * num))\n",
    "\n",
    "\n",
    "def print_square(num):\n",
    "    # function to print square of given num\n",
    "    #Throws an error and I just don't like how it looks\n",
    "    "
   ]
  },
  {
   "cell_type": "code",
   "execution_count": 30,
   "id": "b0a3eae6",
   "metadata": {},
   "outputs": [],
   "source": [
    "#yahoo search through Python\n",
    "\n",
    "#THIS is Css selector, much faster apparently\n",
    "#of course it doesn't work in Jupyter\n",
    "import requests\n",
    "from bs4 import BeautifulSoup\n",
    "\n",
    "query = \"deep\"\n",
    "yahoo = \"https://search.yahoo.com/search?q=\" + query + \"&n=\" + str(10)\n",
    "raw_page = requests.get(yahoo)\n",
    "\n",
    "soup = BeautifulSoup(raw_page.text,'lxml')\n",
    "\n",
    "for link in soup.select(\".ac-algo.fz-l.ac-21th.lh-24\"):\n",
    "    print (link.text, link['href'])"
   ]
  },
  {
   "cell_type": "code",
   "execution_count": 31,
   "id": "11a76c30",
   "metadata": {},
   "outputs": [
    {
     "name": "stdout",
     "output_type": "stream",
     "text": [
      "0.5714025946899135\n"
     ]
    }
   ],
   "source": [
    "#random.seed()\n",
    "import random\n",
    "\n",
    "random.seed(10)\n",
    "print(random.random())"
   ]
  },
  {
   "cell_type": "code",
   "execution_count": null,
   "id": "8c48e64e",
   "metadata": {},
   "outputs": [],
   "source": [
    "#connect to FTP server using Python\n",
    "\n",
    "import ftplib\n",
    "server = ftplib.FTP()\n",
    "server.connect('192.168.135.101', 5556)\n",
    "server.login('svgn','123456')\n",
    "# You don't have to print this, because this command itself prints dir contents\n",
    "server.dir()\n",
    "\n",
    "#no change on Jupyter [can't tell if it works or no]"
   ]
  },
  {
   "cell_type": "code",
   "execution_count": null,
   "id": "87c17dd4",
   "metadata": {},
   "outputs": [],
   "source": [
    "#C based modules\n",
    "\n",
    "#[I'll do this later, this looks less-than-fun]"
   ]
  },
  {
   "cell_type": "code",
   "execution_count": null,
   "id": "0f91b70a",
   "metadata": {},
   "outputs": [],
   "source": [
    "#Sqlite in Python\n",
    "\n",
    "#[definitely done this before, I would relish the challenge]\n"
   ]
  },
  {
   "cell_type": "code",
   "execution_count": null,
   "id": "c6354adc",
   "metadata": {},
   "outputs": [],
   "source": [
    "#sending email with Python\n",
    "\n",
    "# Import smtplib for the actual sending function\n",
    "import smtplib\n",
    "\n",
    "# Here are the email package modules we'll need\n",
    "from email.mime.image import MIMEImage\n",
    "from email.mime.multipart import MIMEMultipart\n",
    "\n",
    "# Create the container (outer) email message.\n",
    "msg = MIMEMultipart()\n",
    "msg['Subject'] = 'Our cannibal cookout'\n",
    "# me == the sender's email address\n",
    "# family = the list of all recipients' email addresses\n",
    "msg['From'] = me\n",
    "msg['To'] = ', '.join(family)\n",
    "msg.preamble = 'Our cannibal cookout'\n",
    "\n",
    "# Assume we know that the image files are all in PNG format\n",
    "for file in pngfiles:\n",
    "    # Open the files in binary mode.  Let the MIMEImage class automatically\n",
    "    # guess the specific image type.\n",
    "    with open(file, 'rb') as fp:\n",
    "        img = MIMEImage(fp.read())\n",
    "    msg.attach(img)\n",
    "\n",
    "# Send the email via our own SMTP server.\n",
    "s = smtplib.SMTP('localhost')\n",
    "s.sendmail(me, family, msg.as_string())\n",
    "s.quit()\n",
    "\n",
    "#ok, Jupyter I think this is when we start seeing other people...\n",
    "#it's not you it's me"
   ]
  },
  {
   "cell_type": "code",
   "execution_count": null,
   "id": "7564b176",
   "metadata": {},
   "outputs": [],
   "source": [
    "#instant messenger (sms) with Python\n",
    "\n",
    "import requests\n",
    "\n",
    "url = \"https://www.fast2sms.com/dev/bulkV2\"\n",
    "\n",
    "querystring = {\n",
    "    \"authorization\": \"API_KEY_OF_YOURS\",\n",
    "    \"message\": \"This is test Message sent from \\\n",
    "        Python Script using REST API.\",\n",
    "    \"language\": \"english\",\n",
    "    \"route\": \"q\",\n",
    "    \"numbers\": \"XXXXXXXX98, YYYYYYYY89\"}\n",
    "\n",
    "headers = {\n",
    "    'cache-control': \"no-cache\"\n",
    "}\n",
    "try:\n",
    "    response = requests.request(\"GET\", url,\n",
    "                                headers = headers,\n",
    "                                params = querystring)\n",
    "    \n",
    "    print(\"SMS Successfully Sent\")\n",
    "except:\n",
    "    print(\"Oops! Something wrong\")\n",
    "    \n",
    "    #yeah, we're breaking up Jupes, this is absolutely 'goodbye'"
   ]
  },
  {
   "cell_type": "code",
   "execution_count": null,
   "id": "0fba3f22",
   "metadata": {},
   "outputs": [],
   "source": [
    "#source-clear\n",
    "#Veracode source\n",
    "\n",
    "#git clone https://github.com/veracode/example-python\n",
    "\n",
    "#srcclr scan path/to/{project_folder}\n",
    "\n",
    "#srcclr scan path/to/{project_folder} --loud\n",
    "\n",
    "\n",
    "#THIS will be *exshpeshially* useful for Stiffusion model scans if it works for that purpose\n",
    "#double-check if works on hashes / --> checksums from Civit-AI"
   ]
  },
  {
   "cell_type": "code",
   "execution_count": null,
   "id": "434ef6ac",
   "metadata": {},
   "outputs": [],
   "source": [
    "#rasp-pi email checker\n",
    "\n",
    "#recommends fetchmail lib or thunderbird-cli\n",
    "\n",
    "\n",
    "###You have a few options.\n",
    "\n",
    "PHP\n",
    "\n",
    "As long as we have python and .NET we must also have PHP. And as long as you got a LAMP installed then this is pretty straightforward. Here is a example of PHP getting emails from GMAIL\n",
    "\n",
    "PROS - More likely choice for anybody using Linux as there are many examples and libraries.\n",
    "CONS - If you don't like PHP you wills still use it but moan and groan...\n",
    "\n",
    "MONO\n",
    "\n",
    "Purely because I am a .NET developer I had to test this and it does work. Just make an app in C#/VB and let it do what you need. Compile it as a console application and run it using mono on the Pi. And here is a good starting point.\n",
    "\n",
    "PROS - If you like .NET you can do allot of things with the code in that one binary. Xamarin and Raspberry Pi are supported/work together by/with Microsoft Open Source now making it more convenient for .NET'ies.\n",
    "CONS - If you do not like .NET or the idea of installing MONO then not for you.\n",
    "\n",
    "BASH\n",
    "\n",
    "You can try and use 3rd party programs to get mail and use bash to parse data and call other scripts.\n",
    "\n",
    "PROS - Not sure but its an option\n",
    "CONS - Can be a bit complicated and wont work cross pc without all the dependencies\n",
    "\n",
    "Postfix\n",
    "\n",
    "If you can get postfix installed to recieve emails then you can tell it to dump the emails to a script- any script, bash, php, python or java if you like.\n",
    "\n",
    "Then your script can parse all this information easy.\n",
    "\n",
    "PROS- Easy enough if you can get postfix (or equivalent) installed\n",
    "CONS - If you have no static IP then you need dyndns\n",
    "\n",
    "Remote Server\n",
    "\n",
    "This is obviously what you asked. You want to fetch email. This sounds easy enough but can be quite complex in trying to get the email and parsing it. But you are not alone because here is a good tutorial that uses python to parse your GMAIL RSS feed.\n",
    "\n",
    "PROS - You do not need to run a SMTP server like postfix behind dyndns\n",
    "CONS - I would not do it like this because getting the emails, parsing them, connecting to remote servers seems complicated (and no 1 way) to do it. Prone to many errors\n",
    "\n",
    "XMLHttpRequest\n",
    "\n",
    "This is a bit of experimental and combination of the two above. Allot of control panels (if you own a domain with some baisc hosting - like justhost) will allow you to dump selected emails to a script (like postfix above). You then parse it on that server and use curl to call your Pi (on DynDns if you dont have static) with specific commands and authentication.\n",
    "\n",
    "PROS- Decentralization and modularity.\n",
    "CONS - Experimental\n",
    "\n",
    "Socks5 / HTML5 Web Messages\n",
    "\n",
    "As in your comment this is also a viable option. Socks opens a socket between the server and browser and stays open allowing you to send and receive messages instantly, between many connections. Node.JS Chat example is a good place to start. SignalR is amazing! And other languages support some kind of socks too.\n",
    "\n",
    "Tips\n",
    "\n",
    "Remember to add some basic authentication in anything you do. Even in your emails put a line with encrypted text that your raspberry will decrypt so it knows its you and not some idiots attacking your system. To increase the security make it a mutating key that for example incorporates a timestamp(dd-mm-yy) so each day it will be encrypted differently but your Pi will know how to decrypt it.\n",
    "You can automate your scripts using CRON###\n"
   ]
  },
  {
   "cell_type": "code",
   "execution_count": null,
   "id": "c6c1c007",
   "metadata": {},
   "outputs": [],
   "source": []
  }
 ],
 "metadata": {
  "kernelspec": {
   "display_name": "Python 3 (ipykernel)",
   "language": "python",
   "name": "python3"
  },
  "language_info": {
   "codemirror_mode": {
    "name": "ipython",
    "version": 3
   },
   "file_extension": ".py",
   "mimetype": "text/x-python",
   "name": "python",
   "nbconvert_exporter": "python",
   "pygments_lexer": "ipython3",
   "version": "3.9.13"
  }
 },
 "nbformat": 4,
 "nbformat_minor": 5
}
